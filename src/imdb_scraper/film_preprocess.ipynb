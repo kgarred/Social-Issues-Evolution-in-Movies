{
 "cells": [
  {
   "cell_type": "markdown",
   "metadata": {},
   "source": [
    "# Preprocess film input data\n"
   ]
  },
  {
   "cell_type": "code",
   "execution_count": 14,
   "metadata": {},
   "outputs": [],
   "source": [
    "# setup cell\n",
    "import time\n",
    "import uuid\n",
    "import json\n",
    "import os\n",
    "import requests\n",
    "import random\n",
    "import gzip\n",
    "import calendar\n",
    "from datetime import datetime\n",
    "import pandas as pd\n",
    "import urllib.request\n",
    "from urllib.parse import urlparse\n",
    "import re\n",
    "\n",
    "def download_file(url, file_path):\n",
    "    if not os.path.exists(file_path):\n",
    "        print(f\"Downloading {url}...\")\n",
    "        urllib.request.urlretrieve(url, file_path)\n",
    "        urllib.request.urlretrieve(url, file_path)\n",
    "        print(\"Download complete.\")\n",
    "    else:\n",
    "        print(\"File already exists. Skipping download.\")\n",
    "\n",
    "def get_keyword_url(film_id):\n",
    "    assert film_id\n",
    "    return f\"https://www.imdb.com/title/{film_id}/keywords/?ref_=tt_stry_kw\"\n",
    "\n",
    "def get_location_url(film_id):\n",
    "    assert film_id\n",
    "    return f\"https://www.imdb.com/title/{film_id}/locations/?ref_=tt_dt_loc\"\n",
    "    \n",
    "def load_large_tsv_gz(file_path):\n",
    "    print(f\"Loading {file_path}...\")\n",
    "    with gzip.open(file_path, 'rt', encoding=\"utf8\") as file:\n",
    "        df = pd.read_csv(file, delimiter='\\t', low_memory=False)\n",
    "    return df\n",
    "\n",
    "def get_film_id_from_url(url):\n",
    "    film_id = url.split('/')[4]\n",
    "    assert film_id[0:2] == 'tt'\n",
    "    return film_id"
   ]
  },
  {
   "cell_type": "markdown",
   "metadata": {},
   "source": [
    "## Download data"
   ]
  },
  {
   "cell_type": "code",
   "execution_count": 2,
   "metadata": {},
   "outputs": [
    {
     "name": "stdout",
     "output_type": "stream",
     "text": [
      "File already exists. Skipping download.\n",
      "File already exists. Skipping download.\n",
      "File already exists. Skipping download.\n"
     ]
    }
   ],
   "source": [
    "# FILE: title.basics.tsv.gz\n",
    "# tconst\ttitleType\tprimaryTitle\toriginalTitle\tisAdult\tstartYear\tendYear\truntimeMinutes\tgenres\n",
    "\n",
    "# Data source: https://developer.imdb.com/non-commercial-datasets/\n",
    "film_fn = os.path.join(os.path.dirname(__name__), \"title.basics.tsv.gz\")\n",
    "ratings_fn = os.path.join(os.path.dirname(__name__), \"title.ratings.tsv.gz\")\n",
    "download_file(\"https://datasets.imdbws.com/title.basics.tsv.gz\", film_fn)\n",
    "download_file(\"https://datasets.imdbws.com/title.ratings.tsv.gz\", ratings_fn)\n",
    "download_file(\"https://datasets.imdbws.com/name.basics.tsv.gz\", os.path.join(os.path.dirname(__name__), \"name.basics.tsv.gz\"))\n"
   ]
  },
  {
   "cell_type": "markdown",
   "metadata": {},
   "source": [
    "## Preprocess film data for scraping"
   ]
  },
  {
   "cell_type": "code",
   "execution_count": 3,
   "metadata": {},
   "outputs": [
    {
     "name": "stdout",
     "output_type": "stream",
     "text": [
      "Loading title.basics.tsv.gz...\n",
      "titleType\n",
      "tvEpisode       8210245\n",
      "short            991346\n",
      "movie            678796\n",
      "video            291238\n",
      "tvSeries         261721\n",
      "tvMovie          145235\n",
      "tvMiniSeries      53894\n",
      "tvSpecial         47388\n",
      "videoGame         38089\n",
      "tvShort           10293\n",
      "tvPilot               1\n",
      "Name: count, dtype: int64\n"
     ]
    }
   ],
   "source": [
    "# Load all the movies basic dataset - check the data distribution for titleType\n",
    "all_movies_df = load_large_tsv_gz(film_fn)\n",
    "print(all_movies_df['titleType'].value_counts())"
   ]
  },
  {
   "cell_type": "code",
   "execution_count": 4,
   "metadata": {},
   "outputs": [
    {
     "data": {
      "text/html": [
       "<div>\n",
       "<style scoped>\n",
       "    .dataframe tbody tr th:only-of-type {\n",
       "        vertical-align: middle;\n",
       "    }\n",
       "\n",
       "    .dataframe tbody tr th {\n",
       "        vertical-align: top;\n",
       "    }\n",
       "\n",
       "    .dataframe thead th {\n",
       "        text-align: right;\n",
       "    }\n",
       "</style>\n",
       "<table border=\"1\" class=\"dataframe\">\n",
       "  <thead>\n",
       "    <tr style=\"text-align: right;\">\n",
       "      <th></th>\n",
       "      <th>tconst</th>\n",
       "      <th>titleType</th>\n",
       "      <th>primaryTitle</th>\n",
       "      <th>originalTitle</th>\n",
       "      <th>isAdult</th>\n",
       "      <th>startYear</th>\n",
       "      <th>endYear</th>\n",
       "      <th>runtimeMinutes</th>\n",
       "      <th>genres</th>\n",
       "    </tr>\n",
       "  </thead>\n",
       "  <tbody>\n",
       "    <tr>\n",
       "      <th>8</th>\n",
       "      <td>tt0000009</td>\n",
       "      <td>movie</td>\n",
       "      <td>Miss Jerry</td>\n",
       "      <td>Miss Jerry</td>\n",
       "      <td>0</td>\n",
       "      <td>1894</td>\n",
       "      <td>\\N</td>\n",
       "      <td>45</td>\n",
       "      <td>Romance</td>\n",
       "    </tr>\n",
       "    <tr>\n",
       "      <th>144</th>\n",
       "      <td>tt0000147</td>\n",
       "      <td>movie</td>\n",
       "      <td>The Corbett-Fitzsimmons Fight</td>\n",
       "      <td>The Corbett-Fitzsimmons Fight</td>\n",
       "      <td>0</td>\n",
       "      <td>1897</td>\n",
       "      <td>\\N</td>\n",
       "      <td>100</td>\n",
       "      <td>Documentary,News,Sport</td>\n",
       "    </tr>\n",
       "    <tr>\n",
       "      <th>498</th>\n",
       "      <td>tt0000502</td>\n",
       "      <td>movie</td>\n",
       "      <td>Bohemios</td>\n",
       "      <td>Bohemios</td>\n",
       "      <td>0</td>\n",
       "      <td>1905</td>\n",
       "      <td>\\N</td>\n",
       "      <td>100</td>\n",
       "      <td>\\N</td>\n",
       "    </tr>\n",
       "    <tr>\n",
       "      <th>570</th>\n",
       "      <td>tt0000574</td>\n",
       "      <td>movie</td>\n",
       "      <td>The Story of the Kelly Gang</td>\n",
       "      <td>The Story of the Kelly Gang</td>\n",
       "      <td>0</td>\n",
       "      <td>1906</td>\n",
       "      <td>\\N</td>\n",
       "      <td>70</td>\n",
       "      <td>Action,Adventure,Biography</td>\n",
       "    </tr>\n",
       "    <tr>\n",
       "      <th>587</th>\n",
       "      <td>tt0000591</td>\n",
       "      <td>movie</td>\n",
       "      <td>The Prodigal Son</td>\n",
       "      <td>L'enfant prodigue</td>\n",
       "      <td>0</td>\n",
       "      <td>1907</td>\n",
       "      <td>\\N</td>\n",
       "      <td>90</td>\n",
       "      <td>Drama</td>\n",
       "    </tr>\n",
       "  </tbody>\n",
       "</table>\n",
       "</div>"
      ],
      "text/plain": [
       "        tconst titleType                   primaryTitle  \\\n",
       "8    tt0000009     movie                     Miss Jerry   \n",
       "144  tt0000147     movie  The Corbett-Fitzsimmons Fight   \n",
       "498  tt0000502     movie                       Bohemios   \n",
       "570  tt0000574     movie    The Story of the Kelly Gang   \n",
       "587  tt0000591     movie               The Prodigal Son   \n",
       "\n",
       "                     originalTitle isAdult startYear endYear runtimeMinutes  \\\n",
       "8                       Miss Jerry       0      1894      \\N             45   \n",
       "144  The Corbett-Fitzsimmons Fight       0      1897      \\N            100   \n",
       "498                       Bohemios       0      1905      \\N            100   \n",
       "570    The Story of the Kelly Gang       0      1906      \\N             70   \n",
       "587              L'enfant prodigue       0      1907      \\N             90   \n",
       "\n",
       "                         genres  \n",
       "8                       Romance  \n",
       "144      Documentary,News,Sport  \n",
       "498                          \\N  \n",
       "570  Action,Adventure,Biography  \n",
       "587                       Drama  "
      ]
     },
     "execution_count": 4,
     "metadata": {},
     "output_type": "execute_result"
    }
   ],
   "source": [
    "# Filter data for titleType = movies or tvseries only\n",
    "cond = ((all_movies_df[\"titleType\"] == 'movie') | (all_movies_df[\"titleType\"] == 'tvSeries'))\n",
    "movies_df = all_movies_df[cond]\n",
    "movies_df.head()"
   ]
  },
  {
   "cell_type": "code",
   "execution_count": 7,
   "metadata": {},
   "outputs": [
    {
     "name": "stdout",
     "output_type": "stream",
     "text": [
      "Loading title.ratings.tsv.gz...\n",
      "Index(['tconst', 'averageRating', 'numVotes'], dtype='object')\n",
      "1430814\n"
     ]
    }
   ],
   "source": [
    "# Load ratings data\n",
    "all_films_df = load_large_tsv_gz(ratings_fn)\n",
    "print(all_films_df.columns)\n",
    "print(len(all_films_df))"
   ]
  },
  {
   "cell_type": "code",
   "execution_count": 8,
   "metadata": {},
   "outputs": [
    {
     "name": "stdout",
     "output_type": "stream",
     "text": [
      "404007\n"
     ]
    },
    {
     "data": {
      "text/html": [
       "<div>\n",
       "<style scoped>\n",
       "    .dataframe tbody tr th:only-of-type {\n",
       "        vertical-align: middle;\n",
       "    }\n",
       "\n",
       "    .dataframe tbody tr th {\n",
       "        vertical-align: top;\n",
       "    }\n",
       "\n",
       "    .dataframe thead th {\n",
       "        text-align: right;\n",
       "    }\n",
       "</style>\n",
       "<table border=\"1\" class=\"dataframe\">\n",
       "  <thead>\n",
       "    <tr style=\"text-align: right;\">\n",
       "      <th></th>\n",
       "      <th>tconst</th>\n",
       "      <th>averageRating</th>\n",
       "      <th>numVotes</th>\n",
       "    </tr>\n",
       "  </thead>\n",
       "  <tbody>\n",
       "    <tr>\n",
       "      <th>8</th>\n",
       "      <td>tt0000009</td>\n",
       "      <td>5.4</td>\n",
       "      <td>211</td>\n",
       "    </tr>\n",
       "    <tr>\n",
       "      <th>144</th>\n",
       "      <td>tt0000147</td>\n",
       "      <td>5.2</td>\n",
       "      <td>512</td>\n",
       "    </tr>\n",
       "    <tr>\n",
       "      <th>338</th>\n",
       "      <td>tt0000502</td>\n",
       "      <td>4.4</td>\n",
       "      <td>17</td>\n",
       "    </tr>\n",
       "    <tr>\n",
       "      <th>372</th>\n",
       "      <td>tt0000574</td>\n",
       "      <td>6.0</td>\n",
       "      <td>891</td>\n",
       "    </tr>\n",
       "    <tr>\n",
       "      <th>380</th>\n",
       "      <td>tt0000591</td>\n",
       "      <td>5.4</td>\n",
       "      <td>24</td>\n",
       "    </tr>\n",
       "  </tbody>\n",
       "</table>\n",
       "</div>"
      ],
      "text/plain": [
       "        tconst  averageRating  numVotes\n",
       "8    tt0000009            5.4       211\n",
       "144  tt0000147            5.2       512\n",
       "338  tt0000502            4.4        17\n",
       "372  tt0000574            6.0       891\n",
       "380  tt0000591            5.4        24"
      ]
     },
     "execution_count": 8,
     "metadata": {},
     "output_type": "execute_result"
    }
   ],
   "source": [
    "# Filter rating dataset for filtered-titleType (movie) only\n",
    "films_df = all_films_df[all_films_df['tconst'].isin(movies_df['tconst'])]\n",
    "print(len(films_df))\n",
    "films_df.head()"
   ]
  },
  {
   "cell_type": "code",
   "execution_count": 9,
   "metadata": {},
   "outputs": [
    {
     "name": "stdout",
     "output_type": "stream",
     "text": [
      "NUM VOTES distribution:\n"
     ]
    },
    {
     "data": {
      "text/plain": [
       "0.00          5.0\n",
       "0.25         17.0\n",
       "0.50         53.0\n",
       "0.75        265.0\n",
       "0.80        419.0\n",
       "0.85        728.0\n",
       "0.90       1536.0\n",
       "0.95       4892.0\n",
       "0.99      60552.4\n",
       "1.00    2887541.0\n",
       "Name: numVotes, dtype: float64"
      ]
     },
     "execution_count": 9,
     "metadata": {},
     "output_type": "execute_result"
    }
   ],
   "source": [
    "print(\"NUM VOTES distribution:\")\n",
    "films_df['numVotes'].quantile([0, 0.25, 0.5, 0.75, .8, .85, .9, .95, .99, 1])"
   ]
  },
  {
   "cell_type": "code",
   "execution_count": 10,
   "metadata": {},
   "outputs": [
    {
     "name": "stdout",
     "output_type": "stream",
     "text": [
      "films n = 115219\n"
     ]
    }
   ],
   "source": [
    "# generate file to scrape\n",
    "films_to_scrape_df = films_df.query('numVotes > 200').sort_values(by='numVotes', ascending=False)\n",
    "print(\"films n =\", len(films_to_scrape_df))\n",
    "\n",
    "SAMPLE_N = 5000\n",
    "\n",
    "films_to_scrape_df.to_csv(os.path.join(os.path.dirname(__name__), \"data/films_to_scrape.csv\"))\n",
    "films_to_scrape_df.sample(SAMPLE_N).sort_values(by='numVotes', ascending=False).to_csv(os.path.join(os.path.dirname(__name__), \"data/films_to_scrape_sample.csv\"))"
   ]
  },
  {
   "cell_type": "markdown",
   "metadata": {},
   "source": [
    "**movie and tv series distribution in sample file**"
   ]
  },
  {
   "cell_type": "code",
   "execution_count": 12,
   "metadata": {},
   "outputs": [
    {
     "name": "stdout",
     "output_type": "stream",
     "text": [
      "(5000, 12)\n"
     ]
    },
    {
     "data": {
      "text/plain": [
       "titleType\n",
       "movie       4193\n",
       "tvSeries     807\n",
       "Name: count, dtype: int64"
      ]
     },
     "execution_count": 12,
     "metadata": {},
     "output_type": "execute_result"
    }
   ],
   "source": [
    "temp = pd.read_csv((os.path.join(os.path.dirname(__name__), \"data/films_to_scrape_sample.csv\")))\n",
    "right_merged = pd.merge(all_movies_df, temp, how=\"right\", on=[\"tconst\"])\n",
    "print(right_merged.shape)\n",
    "right_merged['titleType'].value_counts()"
   ]
  },
  {
   "cell_type": "markdown",
   "metadata": {},
   "source": [
    "## Create empty databse from sqlite db"
   ]
  },
  {
   "cell_type": "code",
   "execution_count": 15,
   "metadata": {},
   "outputs": [],
   "source": [
    "import sqlite3\n",
    "\n",
    "db_conn = sqlite3.connect(os.path.join(os.path.dirname(__name__), \"data/films.db\"))"
   ]
  }
 ],
 "metadata": {
  "kernelspec": {
   "display_name": "py3-DL-TF2",
   "language": "python",
   "name": "py3-dl-tf2"
  },
  "language_info": {
   "codemirror_mode": {
    "name": "ipython",
    "version": 3
   },
   "file_extension": ".py",
   "mimetype": "text/x-python",
   "name": "python",
   "nbconvert_exporter": "python",
   "pygments_lexer": "ipython3",
   "version": "3.10.13"
  }
 },
 "nbformat": 4,
 "nbformat_minor": 4
}
