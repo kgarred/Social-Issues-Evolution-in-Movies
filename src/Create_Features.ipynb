{
 "cells": [
  {
   "cell_type": "markdown",
   "metadata": {},
   "source": [
    "### Load the Libraries"
   ]
  },
  {
   "cell_type": "code",
   "execution_count": 6,
   "metadata": {},
   "outputs": [],
   "source": [
    "import pandas as pd\n",
    "import numpy as np\n",
    "import os\n",
    "import re\n",
    "import datetime\n",
    "\n",
    "import matplotlib.pyplot as plt\n",
    "import matplotlib.patches as mpatches\n",
    "import seaborn as sns\n",
    "import scikitplot as skplt\n",
    "\n",
    "from tqdm.notebook import tqdm_notebook\n",
    "from tqdm.notebook import tqdm\n",
    "tqdm_notebook.pandas()"
   ]
  },
  {
   "cell_type": "code",
   "execution_count": 2,
   "metadata": {},
   "outputs": [],
   "source": [
    "from pandas.errors import SettingWithCopyWarning\n",
    "import warnings\n",
    "warnings.simplefilter(action='ignore', category=(SettingWithCopyWarning))"
   ]
  },
  {
   "cell_type": "markdown",
   "metadata": {},
   "source": [
    "### Load the Summary dataset"
   ]
  },
  {
   "cell_type": "code",
   "execution_count": null,
   "metadata": {},
   "outputs": [],
   "source": [
    "# Load file with user summaries\n",
    "filename = os.path.join(os.path.dirname(__name__), \"RawDataFiles/film_plots.tsv\")\n",
    "df = pd.read_csv(filename,delimiter='\\t',low_memory=False)\n",
    "\n",
    "# exclude all null values\n",
    "df['summary'] = np.where(df['summary'].isnull(), 'None', df['summary'])\n",
    "df = df[df['summary'] != 'None']"
   ]
  },
  {
   "cell_type": "markdown",
   "metadata": {},
   "source": [
    "#### Explore word length of summaries"
   ]
  },
  {
   "cell_type": "code",
   "execution_count": 5,
   "metadata": {},
   "outputs": [
    {
     "data": {
      "application/vnd.jupyter.widget-view+json": {
       "model_id": "7aa35d16e4f946599cdebc4b5a6f1bfa",
       "version_major": 2,
       "version_minor": 0
      },
      "text/plain": [
       "  0%|          | 0/8817 [00:00<?, ?it/s]"
      ]
     },
     "metadata": {},
     "output_type": "display_data"
    },
    {
     "name": "stdout",
     "output_type": "stream",
     "text": [
      "maximum length:  1023\n",
      "minimum length:  3\n",
      "average length:  68.74594533287967\n"
     ]
    }
   ],
   "source": [
    "def word_count(x):\n",
    "    x_list = x.split()\n",
    "    return len(x_list)\n",
    "\n",
    "df['summary_len'] = df['summary'].progress_apply(lambda x: word_count(x))\n",
    "print(\"maximum length: \", max(df['summary_len']))\n",
    "print(\"minimum length: \", min(df['summary_len']))\n",
    "print(\"average length: \", np.average(df['summary_len']))"
   ]
  },
  {
   "cell_type": "code",
   "execution_count": 7,
   "metadata": {},
   "outputs": [
    {
     "name": "stdout",
     "output_type": "stream",
     "text": [
      "largest length of a string: 1023\n"
     ]
    },
    {
     "data": {
      "image/png": "[encoded data removed]",
      "text/plain": [
       "<Figure size 500x500 with 1 Axes>"
      ]
     },
     "metadata": {},
     "output_type": "display_data"
    }
   ],
   "source": [
    "#check length\n",
    "df = df.drop_duplicates()\n",
    "df2 = df[df['summary'] != '']\n",
    "\n",
    "length = [len(i.split()) for i in df2['summary']]\n",
    "print('largest length of a string:', max(length))\n",
    "\n",
    "plt.figure(figsize=(5,5))\n",
    "sns.violinplot(y = length)\n",
    "plt.ylabel('text length')\n",
    "plt.title('Film summaries word strength distribution')\n",
    "plt.show()"
   ]
  },
  {
   "cell_type": "markdown",
   "metadata": {},
   "source": [
    "#### Data Cleaning\n",
    "Keep Summaries with length greater than 5 and and less than equal to 500"
   ]
  },
  {
   "cell_type": "code",
   "execution_count": 8,
   "metadata": {},
   "outputs": [],
   "source": [
    "df = df[df['summary_len']>5]\n",
    "df = df[df['summary_len']<500]"
   ]
  },
  {
   "cell_type": "code",
   "execution_count": 9,
   "metadata": {},
   "outputs": [
    {
     "data": {
      "text/html": [
       "<div>\n",
       "<style scoped>\n",
       "    .dataframe tbody tr th:only-of-type {\n",
       "        vertical-align: middle;\n",
       "    }\n",
       "\n",
       "    .dataframe tbody tr th {\n",
       "        vertical-align: top;\n",
       "    }\n",
       "\n",
       "    .dataframe thead th {\n",
       "        text-align: right;\n",
       "    }\n",
       "</style>\n",
       "<table border=\"1\" class=\"dataframe\">\n",
       "  <thead>\n",
       "    <tr style=\"text-align: right;\">\n",
       "      <th></th>\n",
       "      <th>summary</th>\n",
       "      <th>film_id</th>\n",
       "      <th>summary_id</th>\n",
       "      <th>summary_len</th>\n",
       "    </tr>\n",
       "  </thead>\n",
       "  <tbody>\n",
       "    <tr>\n",
       "      <th>0</th>\n",
       "      <td>Two detectives, a rookie and a veteran, hunt a...</td>\n",
       "      <td>tt0114369</td>\n",
       "      <td>1</td>\n",
       "      <td>20</td>\n",
       "    </tr>\n",
       "    <tr>\n",
       "      <th>1</th>\n",
       "      <td>A film about two homicide detectives' (Morgan ...</td>\n",
       "      <td>tt0114369</td>\n",
       "      <td>2</td>\n",
       "      <td>134</td>\n",
       "    </tr>\n",
       "    <tr>\n",
       "      <th>2</th>\n",
       "      <td>Taking place in a nameless city, Se7en follows...</td>\n",
       "      <td>tt0114369</td>\n",
       "      <td>3</td>\n",
       "      <td>96</td>\n",
       "    </tr>\n",
       "    <tr>\n",
       "      <th>3</th>\n",
       "      <td>Two police detectives - one, Somerset, about t...</td>\n",
       "      <td>tt0114369</td>\n",
       "      <td>4</td>\n",
       "      <td>75</td>\n",
       "    </tr>\n",
       "    <tr>\n",
       "      <th>4</th>\n",
       "      <td>Two detectives, one about to leave and one ent...</td>\n",
       "      <td>tt0114369</td>\n",
       "      <td>5</td>\n",
       "      <td>44</td>\n",
       "    </tr>\n",
       "  </tbody>\n",
       "</table>\n",
       "</div>"
      ],
      "text/plain": [
       "                                             summary    film_id  summary_id  \\\n",
       "0  Two detectives, a rookie and a veteran, hunt a...  tt0114369           1   \n",
       "1  A film about two homicide detectives' (Morgan ...  tt0114369           2   \n",
       "2  Taking place in a nameless city, Se7en follows...  tt0114369           3   \n",
       "3  Two police detectives - one, Somerset, about t...  tt0114369           4   \n",
       "4  Two detectives, one about to leave and one ent...  tt0114369           5   \n",
       "\n",
       "   summary_len  \n",
       "0           20  \n",
       "1          134  \n",
       "2           96  \n",
       "3           75  \n",
       "4           44  "
      ]
     },
     "execution_count": 9,
     "metadata": {},
     "output_type": "execute_result"
    }
   ],
   "source": [
    "df.head()"
   ]
  },
  {
   "cell_type": "markdown",
   "metadata": {},
   "source": [
    "### Create sentiment score feature"
   ]
  },
  {
   "cell_type": "code",
   "execution_count": 11,
   "metadata": {},
   "outputs": [
    {
     "name": "stderr",
     "output_type": "stream",
     "text": [
      "[nltk_data] Downloading package vader_lexicon to\n",
      "[nltk_data]     C:\\Users\\lovke\\AppData\\Roaming\\nltk_data...\n",
      "[nltk_data]   Package vader_lexicon is already up-to-date!\n"
     ]
    },
    {
     "data": {
      "text/plain": [
       "True"
      ]
     },
     "execution_count": 11,
     "metadata": {},
     "output_type": "execute_result"
    }
   ],
   "source": [
    "import nltk\n",
    "nltk.download('vader_lexicon')"
   ]
  },
  {
   "cell_type": "code",
   "execution_count": 12,
   "metadata": {},
   "outputs": [],
   "source": [
    "from nltk.sentiment.vader import SentimentIntensityAnalyzer\n",
    "\n",
    "analyzer = SentimentIntensityAnalyzer()\n",
    "\n",
    "def get_sentiment_score(text):\n",
    "    sentiment_dict = analyzer.polarity_scores(text)\n",
    "    return sentiment_dict['compound']  # 'compound' gives the overall sentiment score"
   ]
  },
  {
   "cell_type": "code",
   "execution_count": 13,
   "metadata": {},
   "outputs": [
    {
     "data": {
      "application/vnd.jupyter.widget-view+json": {
       "model_id": "d5da86eb6dc54b7182bfdd61f2e28685",
       "version_major": 2,
       "version_minor": 0
      },
      "text/plain": [
       "  0%|          | 0/8798 [00:00<?, ?it/s]"
      ]
     },
     "metadata": {},
     "output_type": "display_data"
    },
    {
     "data": {
      "text/html": [
       "<div>\n",
       "<style scoped>\n",
       "    .dataframe tbody tr th:only-of-type {\n",
       "        vertical-align: middle;\n",
       "    }\n",
       "\n",
       "    .dataframe tbody tr th {\n",
       "        vertical-align: top;\n",
       "    }\n",
       "\n",
       "    .dataframe thead th {\n",
       "        text-align: right;\n",
       "    }\n",
       "</style>\n",
       "<table border=\"1\" class=\"dataframe\">\n",
       "  <thead>\n",
       "    <tr style=\"text-align: right;\">\n",
       "      <th></th>\n",
       "      <th>summary</th>\n",
       "      <th>film_id</th>\n",
       "      <th>summary_id</th>\n",
       "      <th>summary_len</th>\n",
       "      <th>sentiment_score</th>\n",
       "    </tr>\n",
       "  </thead>\n",
       "  <tbody>\n",
       "    <tr>\n",
       "      <th>0</th>\n",
       "      <td>Two detectives, a rookie and a veteran, hunt a...</td>\n",
       "      <td>tt0114369</td>\n",
       "      <td>1</td>\n",
       "      <td>20</td>\n",
       "      <td>-0.8074</td>\n",
       "    </tr>\n",
       "    <tr>\n",
       "      <th>1</th>\n",
       "      <td>A film about two homicide detectives' (Morgan ...</td>\n",
       "      <td>tt0114369</td>\n",
       "      <td>2</td>\n",
       "      <td>134</td>\n",
       "      <td>-0.9455</td>\n",
       "    </tr>\n",
       "    <tr>\n",
       "      <th>2</th>\n",
       "      <td>Taking place in a nameless city, Se7en follows...</td>\n",
       "      <td>tt0114369</td>\n",
       "      <td>3</td>\n",
       "      <td>96</td>\n",
       "      <td>-0.9280</td>\n",
       "    </tr>\n",
       "    <tr>\n",
       "      <th>3</th>\n",
       "      <td>Two police detectives - one, Somerset, about t...</td>\n",
       "      <td>tt0114369</td>\n",
       "      <td>4</td>\n",
       "      <td>75</td>\n",
       "      <td>-0.9638</td>\n",
       "    </tr>\n",
       "    <tr>\n",
       "      <th>4</th>\n",
       "      <td>Two detectives, one about to leave and one ent...</td>\n",
       "      <td>tt0114369</td>\n",
       "      <td>5</td>\n",
       "      <td>44</td>\n",
       "      <td>-0.9153</td>\n",
       "    </tr>\n",
       "  </tbody>\n",
       "</table>\n",
       "</div>"
      ],
      "text/plain": [
       "                                             summary    film_id  summary_id  \\\n",
       "0  Two detectives, a rookie and a veteran, hunt a...  tt0114369           1   \n",
       "1  A film about two homicide detectives' (Morgan ...  tt0114369           2   \n",
       "2  Taking place in a nameless city, Se7en follows...  tt0114369           3   \n",
       "3  Two police detectives - one, Somerset, about t...  tt0114369           4   \n",
       "4  Two detectives, one about to leave and one ent...  tt0114369           5   \n",
       "\n",
       "   summary_len  sentiment_score  \n",
       "0           20          -0.8074  \n",
       "1          134          -0.9455  \n",
       "2           96          -0.9280  \n",
       "3           75          -0.9638  \n",
       "4           44          -0.9153  "
      ]
     },
     "execution_count": 13,
     "metadata": {},
     "output_type": "execute_result"
    }
   ],
   "source": [
    "df['sentiment_score'] = df['summary'].progress_apply(lambda x: get_sentiment_score(x))\n",
    "df.head()"
   ]
  },
  {
   "cell_type": "markdown",
   "metadata": {},
   "source": [
    "#### Create ST Embeddings feature"
   ]
  },
  {
   "cell_type": "code",
   "execution_count": 14,
   "metadata": {},
   "outputs": [
    {
     "name": "stdout",
     "output_type": "stream",
     "text": [
      "WARNING:tensorflow:From h:\\Kiran\\anaconda3\\envs\\tf\\lib\\site-packages\\tf_keras\\src\\losses.py:2976: The name tf.losses.sparse_softmax_cross_entropy is deprecated. Please use tf.compat.v1.losses.sparse_softmax_cross_entropy instead.\n",
      "\n"
     ]
    }
   ],
   "source": [
    "from transformers import AutoTokenizer, AutoModel\n",
    "from transformers import BertTokenizer, BertModel\n",
    "from sentence_transformers import util\n",
    "from sentence_transformers import SentenceTransformer\n",
    "import torch.nn.functional as F\n",
    "import torch"
   ]
  },
  {
   "cell_type": "code",
   "execution_count": 15,
   "metadata": {},
   "outputs": [
    {
     "name": "stderr",
     "output_type": "stream",
     "text": [
      "h:\\Kiran\\anaconda3\\envs\\tf\\lib\\site-packages\\transformers\\tokenization_utils_base.py:1601: FutureWarning: `clean_up_tokenization_spaces` was not set. It will be set to `True` by default. This behavior will be depracted in transformers v4.45, and will be then set to `False` by default. For more details check this issue: https://github.com/huggingface/transformers/issues/31884\n",
      "  warnings.warn(\n"
     ]
    }
   ],
   "source": [
    "# Initialize the MiniLM model and tokenizer\n",
    "tokenizer = AutoTokenizer.from_pretrained(\"sentence-transformers/all-MiniLM-L6-v2\")\n",
    "model = AutoModel.from_pretrained(\"sentence-transformers/all-MiniLM-L6-v2\")\n",
    "\n",
    "def extract_tokens_and_embed(text, first_n=96, last_n=288):\n",
    "    # Tokenize the text\n",
    "    tokens = tokenizer(text, return_tensors='pt', truncation=False, padding=False, add_special_tokens=True)\n",
    "\n",
    "    if len(tokens) > 382:\n",
    "        # Extract the first 128 tokens\n",
    "        first_part = tokens[:first_n]\n",
    "        \n",
    "        # Extract the last 382 tokens\n",
    "        last_part = tokens[-last_n:]\n",
    "    \n",
    "        # Concatenate the two parts\n",
    "        combined_tokens = torch.cat([first_part, last_part])\n",
    "    else:\n",
    "        inputs = tokenizer(text, padding=True, truncation=True, return_tensors='pt')\n",
    "        # Generate Contextual embeddings\n",
    "        with torch.no_grad():\n",
    "            outputs = model(**inputs)\n",
    "            word_embeddings = outputs[\"last_hidden_state\"][:,0,:]\n",
    "            return word_embeddings\n",
    "    \n",
    "    #truncated_text = tokenizer.convert_tokens_to_string(combined_tokens)\n",
    "    input_ids = torch.tensor(combined_tokens).unsqueeze(0)\n",
    "    # Pass through the model to get embeddings\n",
    "    with torch.no_grad():\n",
    "        model_output = model(**input_ids)\n",
    "        embedding = model_output[\"last_hidden_state\"][:,0,:]\n",
    "        #norm_embedding = F.normalize(embedding, p=2, dim=1)\n",
    "        \n",
    "    return embedding"
   ]
  },
  {
   "cell_type": "code",
   "execution_count": 16,
   "metadata": {},
   "outputs": [
    {
     "data": {
      "application/vnd.jupyter.widget-view+json": {
       "model_id": "06a426d4f4da4b3a9958ee2df2b8b1ad",
       "version_major": 2,
       "version_minor": 0
      },
      "text/plain": [
       "  0%|          | 0/8798 [00:00<?, ?it/s]"
      ]
     },
     "metadata": {},
     "output_type": "display_data"
    },
    {
     "name": "stderr",
     "output_type": "stream",
     "text": [
      "Token indices sequence length is longer than the specified maximum sequence length for this model (535 > 512). Running this sequence through the model will result in indexing errors\n"
     ]
    },
    {
     "data": {
      "text/html": [
       "<div>\n",
       "<style scoped>\n",
       "    .dataframe tbody tr th:only-of-type {\n",
       "        vertical-align: middle;\n",
       "    }\n",
       "\n",
       "    .dataframe tbody tr th {\n",
       "        vertical-align: top;\n",
       "    }\n",
       "\n",
       "    .dataframe thead th {\n",
       "        text-align: right;\n",
       "    }\n",
       "</style>\n",
       "<table border=\"1\" class=\"dataframe\">\n",
       "  <thead>\n",
       "    <tr style=\"text-align: right;\">\n",
       "      <th></th>\n",
       "      <th>summary</th>\n",
       "      <th>film_id</th>\n",
       "      <th>summary_id</th>\n",
       "      <th>summary_len</th>\n",
       "      <th>sentiment_score</th>\n",
       "      <th>st_embeddings</th>\n",
       "    </tr>\n",
       "  </thead>\n",
       "  <tbody>\n",
       "    <tr>\n",
       "      <th>0</th>\n",
       "      <td>Two detectives, a rookie and a veteran, hunt a...</td>\n",
       "      <td>tt0114369</td>\n",
       "      <td>1</td>\n",
       "      <td>20</td>\n",
       "      <td>-0.8074</td>\n",
       "      <td>[[tensor(-0.0401), tensor(0.0807), tensor(-0.2...</td>\n",
       "    </tr>\n",
       "    <tr>\n",
       "      <th>1</th>\n",
       "      <td>A film about two homicide detectives' (Morgan ...</td>\n",
       "      <td>tt0114369</td>\n",
       "      <td>2</td>\n",
       "      <td>134</td>\n",
       "      <td>-0.9455</td>\n",
       "      <td>[[tensor(-0.2029), tensor(-0.1971), tensor(-0....</td>\n",
       "    </tr>\n",
       "    <tr>\n",
       "      <th>2</th>\n",
       "      <td>Taking place in a nameless city, Se7en follows...</td>\n",
       "      <td>tt0114369</td>\n",
       "      <td>3</td>\n",
       "      <td>96</td>\n",
       "      <td>-0.9280</td>\n",
       "      <td>[[tensor(0.0038), tensor(-0.0143), tensor(0.04...</td>\n",
       "    </tr>\n",
       "    <tr>\n",
       "      <th>3</th>\n",
       "      <td>Two police detectives - one, Somerset, about t...</td>\n",
       "      <td>tt0114369</td>\n",
       "      <td>4</td>\n",
       "      <td>75</td>\n",
       "      <td>-0.9638</td>\n",
       "      <td>[[tensor(-0.2685), tensor(-0.1503), tensor(-0....</td>\n",
       "    </tr>\n",
       "    <tr>\n",
       "      <th>4</th>\n",
       "      <td>Two detectives, one about to leave and one ent...</td>\n",
       "      <td>tt0114369</td>\n",
       "      <td>5</td>\n",
       "      <td>44</td>\n",
       "      <td>-0.9153</td>\n",
       "      <td>[[tensor(-0.1507), tensor(-0.0273), tensor(-0....</td>\n",
       "    </tr>\n",
       "  </tbody>\n",
       "</table>\n",
       "</div>"
      ],
      "text/plain": [
       "                                             summary    film_id  summary_id  \\\n",
       "0  Two detectives, a rookie and a veteran, hunt a...  tt0114369           1   \n",
       "1  A film about two homicide detectives' (Morgan ...  tt0114369           2   \n",
       "2  Taking place in a nameless city, Se7en follows...  tt0114369           3   \n",
       "3  Two police detectives - one, Somerset, about t...  tt0114369           4   \n",
       "4  Two detectives, one about to leave and one ent...  tt0114369           5   \n",
       "\n",
       "   summary_len  sentiment_score  \\\n",
       "0           20          -0.8074   \n",
       "1          134          -0.9455   \n",
       "2           96          -0.9280   \n",
       "3           75          -0.9638   \n",
       "4           44          -0.9153   \n",
       "\n",
       "                                       st_embeddings  \n",
       "0  [[tensor(-0.0401), tensor(0.0807), tensor(-0.2...  \n",
       "1  [[tensor(-0.2029), tensor(-0.1971), tensor(-0....  \n",
       "2  [[tensor(0.0038), tensor(-0.0143), tensor(0.04...  \n",
       "3  [[tensor(-0.2685), tensor(-0.1503), tensor(-0....  \n",
       "4  [[tensor(-0.1507), tensor(-0.0273), tensor(-0....  "
      ]
     },
     "execution_count": 16,
     "metadata": {},
     "output_type": "execute_result"
    }
   ],
   "source": [
    "df['st_embeddings'] = df['summary'].progress_apply(lambda x: extract_tokens_and_embed(x))\n",
    "df.head()"
   ]
  },
  {
   "cell_type": "markdown",
   "metadata": {},
   "source": [
    "#### Write to feature dataset file"
   ]
  },
  {
   "cell_type": "code",
   "execution_count": null,
   "metadata": {},
   "outputs": [],
   "source": [
    "df.to_csv(os.path.join(os.path.dirname(__name__), \"ProcessedDataFiles\\\\feature_dataset.tsv\"), sep='\\t', index=False)"
   ]
  },
  {
   "cell_type": "markdown",
   "metadata": {},
   "source": [
    "### Create unlabelled dataset"
   ]
  },
  {
   "cell_type": "code",
   "execution_count": 19,
   "metadata": {},
   "outputs": [
    {
     "data": {
      "text/html": [
       "<div>\n",
       "<style scoped>\n",
       "    .dataframe tbody tr th:only-of-type {\n",
       "        vertical-align: middle;\n",
       "    }\n",
       "\n",
       "    .dataframe tbody tr th {\n",
       "        vertical-align: top;\n",
       "    }\n",
       "\n",
       "    .dataframe thead th {\n",
       "        text-align: right;\n",
       "    }\n",
       "</style>\n",
       "<table border=\"1\" class=\"dataframe\">\n",
       "  <thead>\n",
       "    <tr style=\"text-align: right;\">\n",
       "      <th></th>\n",
       "      <th>summary</th>\n",
       "      <th>film_id</th>\n",
       "      <th>summary_id</th>\n",
       "      <th>summary_len</th>\n",
       "      <th>sentiment_score</th>\n",
       "      <th>st_embeddings</th>\n",
       "    </tr>\n",
       "  </thead>\n",
       "  <tbody>\n",
       "    <tr>\n",
       "      <th>0</th>\n",
       "      <td>Two detectives, a rookie and a veteran, hunt a...</td>\n",
       "      <td>tt0114369</td>\n",
       "      <td>1</td>\n",
       "      <td>20</td>\n",
       "      <td>-0.8074</td>\n",
       "      <td>[[tensor(-0.0401), tensor(0.0807), tensor(-0.2...</td>\n",
       "    </tr>\n",
       "    <tr>\n",
       "      <th>1</th>\n",
       "      <td>A film about two homicide detectives' (Morgan ...</td>\n",
       "      <td>tt0114369</td>\n",
       "      <td>2</td>\n",
       "      <td>134</td>\n",
       "      <td>-0.9455</td>\n",
       "      <td>[[tensor(-0.2029), tensor(-0.1971), tensor(-0....</td>\n",
       "    </tr>\n",
       "    <tr>\n",
       "      <th>2</th>\n",
       "      <td>Taking place in a nameless city, Se7en follows...</td>\n",
       "      <td>tt0114369</td>\n",
       "      <td>3</td>\n",
       "      <td>96</td>\n",
       "      <td>-0.9280</td>\n",
       "      <td>[[tensor(0.0038), tensor(-0.0143), tensor(0.04...</td>\n",
       "    </tr>\n",
       "    <tr>\n",
       "      <th>3</th>\n",
       "      <td>Two police detectives - one, Somerset, about t...</td>\n",
       "      <td>tt0114369</td>\n",
       "      <td>4</td>\n",
       "      <td>75</td>\n",
       "      <td>-0.9638</td>\n",
       "      <td>[[tensor(-0.2685), tensor(-0.1503), tensor(-0....</td>\n",
       "    </tr>\n",
       "    <tr>\n",
       "      <th>4</th>\n",
       "      <td>Two detectives, one about to leave and one ent...</td>\n",
       "      <td>tt0114369</td>\n",
       "      <td>5</td>\n",
       "      <td>44</td>\n",
       "      <td>-0.9153</td>\n",
       "      <td>[[tensor(-0.1507), tensor(-0.0273), tensor(-0....</td>\n",
       "    </tr>\n",
       "  </tbody>\n",
       "</table>\n",
       "</div>"
      ],
      "text/plain": [
       "                                             summary    film_id  summary_id  \\\n",
       "0  Two detectives, a rookie and a veteran, hunt a...  tt0114369           1   \n",
       "1  A film about two homicide detectives' (Morgan ...  tt0114369           2   \n",
       "2  Taking place in a nameless city, Se7en follows...  tt0114369           3   \n",
       "3  Two police detectives - one, Somerset, about t...  tt0114369           4   \n",
       "4  Two detectives, one about to leave and one ent...  tt0114369           5   \n",
       "\n",
       "   summary_len  sentiment_score  \\\n",
       "0           20          -0.8074   \n",
       "1          134          -0.9455   \n",
       "2           96          -0.9280   \n",
       "3           75          -0.9638   \n",
       "4           44          -0.9153   \n",
       "\n",
       "                                       st_embeddings  \n",
       "0  [[tensor(-0.0401), tensor(0.0807), tensor(-0.2...  \n",
       "1  [[tensor(-0.2029), tensor(-0.1971), tensor(-0....  \n",
       "2  [[tensor(0.0038), tensor(-0.0143), tensor(0.04...  \n",
       "3  [[tensor(-0.2685), tensor(-0.1503), tensor(-0....  \n",
       "4  [[tensor(-0.1507), tensor(-0.0273), tensor(-0....  "
      ]
     },
     "execution_count": 19,
     "metadata": {},
     "output_type": "execute_result"
    }
   ],
   "source": [
    "df.head()"
   ]
  },
  {
   "cell_type": "code",
   "execution_count": null,
   "metadata": {},
   "outputs": [],
   "source": [
    "# Load file with target labelled values\n",
    "filename = os.path.join(os.path.dirname(__name__), \"ProcessedDataFiles/target_labels.csv\")\n",
    "target_df = pd.read_csv(filename,delimiter=',',low_memory=False)"
   ]
  },
  {
   "cell_type": "code",
   "execution_count": 45,
   "metadata": {},
   "outputs": [],
   "source": [
    "labelled_movie_list = list(target_df.film_id.unique())"
   ]
  },
  {
   "cell_type": "code",
   "execution_count": 46,
   "metadata": {},
   "outputs": [
    {
     "name": "stdout",
     "output_type": "stream",
     "text": [
      "<class 'pandas.core.frame.DataFrame'>\n",
      "Int64Index: 3476 entries, 0 to 12128\n",
      "Data columns (total 5 columns):\n",
      " #   Column           Non-Null Count  Dtype  \n",
      "---  ------           --------------  -----  \n",
      " 0   summary          3476 non-null   object \n",
      " 1   film_id          3476 non-null   object \n",
      " 2   summary_id       3476 non-null   int64  \n",
      " 3   sentiment_score  3476 non-null   float64\n",
      " 4   st_embeddings    3476 non-null   object \n",
      "dtypes: float64(1), int64(1), object(3)\n",
      "memory usage: 162.9+ KB\n"
     ]
    }
   ],
   "source": [
    "single_summary_df = df[df['film_id'].isin(labelled_movie_list)]\n",
    "single_summary_df.info()"
   ]
  },
  {
   "cell_type": "code",
   "execution_count": 48,
   "metadata": {},
   "outputs": [
    {
     "data": {
      "text/plain": [
       "994"
      ]
     },
     "execution_count": 48,
     "metadata": {},
     "output_type": "execute_result"
    }
   ],
   "source": [
    "unlabelled_data = df[~df['film_id'].isin(labelled_movie_list)]"
   ]
  },
  {
   "cell_type": "code",
   "execution_count": null,
   "metadata": {},
   "outputs": [],
   "source": []
  }
 ],
 "metadata": {
  "kernelspec": {
   "display_name": "Python 3",
   "language": "python",
   "name": "python3"
  },
  "language_info": {
   "codemirror_mode": {
    "name": "ipython",
    "version": 3
   },
   "file_extension": ".py",
   "mimetype": "text/x-python",
   "name": "python",
   "nbconvert_exporter": "python",
   "pygments_lexer": "ipython3",
   "version": "3.10.13"
  }
 },
 "nbformat": 4,
 "nbformat_minor": 2
}
